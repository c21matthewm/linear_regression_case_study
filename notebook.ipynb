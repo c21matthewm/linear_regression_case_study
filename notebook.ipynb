{
 "cells": [
  {
   "cell_type": "code",
   "execution_count": 42,
   "metadata": {},
   "outputs": [
    {
     "name": "stdout",
     "output_type": "stream",
     "text": [
      "The autoreload extension is already loaded. To reload it, use:\n",
      "  %reload_ext autoreload\n"
     ]
    }
   ],
   "source": [
    "import matplotlib.pyplot as plt\n",
    "import numpy as np\n",
    "import pandas as pd\n",
    "import scipy.stats as spicystats\n",
    "import seaborn as sns\n",
    "\n",
    "from sklearn.model_selection import train_test_split\n",
    "from sklearn.linear_model import LinearRegression\n",
    "from sklearn.linear_model import Ridge\n",
    "from sklearn.metrics import mean_squared_error\n",
    "\n",
    "from sklearn.neighbors import KNeighborsRegressor\n",
    "from sklearn.model_selection import KFold\n",
    "from sklearn.model_selection import train_test_split\n",
    "from sklearn.model_selection import cross_val_score\n",
    "import numpy as np\n",
    "from pandas.plotting import scatter_matrix\n",
    "import statsmodels.api as sm\n",
    "\n",
    "import sys\n",
    "sys.path.insert(0, 'src/')\n",
    "import functions\n",
    "from sklearn.preprocessing import StandardScaler\n",
    "\n",
    "%load_ext autoreload\n",
    "%autoreload 2"
   ]
  },
  {
   "cell_type": "code",
   "execution_count": 43,
   "metadata": {},
   "outputs": [],
   "source": [
    "# load and clean dataset, changed fico range from a string to an integer ranked order, train-test split\n",
    "\n",
    "loan_data = pd.read_csv('data/loan_data.csv')\n",
    "loan_data['amount_funded_by_investors'].replace(-0.01, 0.00, inplace=True)\n",
    "\n",
    "X = loan_data.drop('interest_rate', axis=1)\n",
    "y = loan_data['interest_rate']\n",
    "\n",
    "fico_dict = {idx+1:val for idx, val in enumerate(np.sort(X.fico_range.unique()))}\n",
    "fico_df = pd.DataFrame([fico_dict]).T.rename(columns={0: 'fico_range'})\n",
    "fico_df['fico_score'] = [float(i[:3]) for i in fico_df['fico_range']]\n",
    "\n",
    "X = X.merge(fico_df, 'left', on='fico_range').drop('fico_range', axis=1)\n",
    "\n",
    "X_train, X_test, y_train, y_test = train_test_split(X, y, test_size=0.2)"
   ]
  },
  {
   "cell_type": "code",
   "execution_count": 44,
   "metadata": {},
   "outputs": [],
   "source": [
    "sns.pairplot(X_train)"
   ]
  },
  {
   "cell_type": "code",
   "execution_count": null,
   "metadata": {},
   "outputs": [],
   "source": [
    "# creating linear regression model 1 and printing summary info\n",
    "\n",
    "y_hat = functions.linear_regression_model(X_train, y_train, X_test)\n",
    "functions.model_summary(y_train, X_train)"
   ]
  },
  {
   "cell_type": "code",
   "execution_count": 47,
   "metadata": {},
   "outputs": [
    {
     "data": {
      "text/plain": [
       "2.025904878556023"
      ]
     },
     "execution_count": 47,
     "metadata": {},
     "output_type": "execute_result"
    }
   ],
   "source": [
    "# RMSE for model 1\n",
    "\n",
    "functions.rmse(y_test, y_hat)"
   ]
  },
  {
   "cell_type": "code",
   "execution_count": 48,
   "metadata": {},
   "outputs": [
    {
     "data": {
      "text/plain": [
       "(2.1235170893093605, 2.131015136841591)"
      ]
     },
     "execution_count": 48,
     "metadata": {},
     "output_type": "execute_result"
    }
   ],
   "source": [
    "# RMSE of training and test set with K-folds for model 1\n",
    "\n",
    "functions.cross_val_linear(X_train, y_train, 5)"
   ]
  },
  {
   "cell_type": "code",
   "execution_count": null,
   "metadata": {},
   "outputs": [],
   "source": [
    "# Residual plot for each individual feature\n",
    "\n",
    "fig, ax = plt.subplots(4,1)\n",
    "\n",
    "for idx, val in enumerate(X_test.columns):\n",
    "    functions.residual_plot(ax[idx], X_test[val], y_test, y_hat)"
   ]
  },
  {
   "cell_type": "code",
   "execution_count": null,
   "metadata": {},
   "outputs": [],
   "source": [
    "# Residual plot for entire model 1\n",
    "\n",
    "fig, ax = plt.subplots()\n",
    "functions.residual_plot(ax, X_test.index, y_test, y_hat)"
   ]
  },
  {
   "cell_type": "code",
   "execution_count": null,
   "metadata": {},
   "outputs": [],
   "source": []
  },
  {
   "cell_type": "code",
   "execution_count": null,
   "metadata": {},
   "outputs": [],
   "source": []
  },
  {
   "cell_type": "code",
   "execution_count": null,
   "metadata": {},
   "outputs": [],
   "source": [
    "# Model 2 Dataframe Creation\n",
    "\n",
    "X2 = X[['amount_funded_by_investors', 'loan_length', 'fico_score']]\n",
    "y2 = y\n",
    "X2_train, X2_test, y2_train, y2_test = train_test_split(X2, y2, test_size=0.2)"
   ]
  },
  {
   "cell_type": "code",
   "execution_count": null,
   "metadata": {},
   "outputs": [],
   "source": [
    "# creating linear regression model 2 and printing summary info\n",
    "\n",
    "y2_hat = functions.linear_regression_model(X2_train, y2_train, X2_test)\n",
    "functions.model_summary(y2_train, X2_train)"
   ]
  },
  {
   "cell_type": "code",
   "execution_count": 72,
   "metadata": {},
   "outputs": [
    {
     "data": {
      "text/plain": [
       "2.0937902076652386"
      ]
     },
     "execution_count": 72,
     "metadata": {},
     "output_type": "execute_result"
    }
   ],
   "source": [
    "# RMSE for model 2\n",
    "\n",
    "functions.rmse(y2_test, y2_hat)"
   ]
  },
  {
   "cell_type": "code",
   "execution_count": 73,
   "metadata": {},
   "outputs": [
    {
     "data": {
      "text/plain": [
       "(2.1109066988591048, 2.117040132518013)"
      ]
     },
     "execution_count": 73,
     "metadata": {},
     "output_type": "execute_result"
    }
   ],
   "source": [
    "# RMSE of training and test set with K-folds for model 2\n",
    "\n",
    "functions.cross_val_linear(X2_train, y2_train, 5)"
   ]
  },
  {
   "cell_type": "code",
   "execution_count": null,
   "metadata": {},
   "outputs": [],
   "source": [
    "# Residual plot for each individual feature model 2\n",
    "\n",
    "fig, ax = plt.subplots(3,1)\n",
    "fig.tight_layout()\n",
    "\n",
    "for idx, val in enumerate(X2_test.columns):\n",
    "    functions.residual_plot(ax[idx], X2_test[val], y2_test, y2_hat)"
   ]
  },
  {
   "cell_type": "code",
   "execution_count": null,
   "metadata": {},
   "outputs": [],
   "source": [
    "# Residual plot for entire model 2\n",
    "\n",
    "fig, ax = plt.subplots()\n",
    "functions.residual_plot(ax, X2_test.index, y2_test, y2_hat)"
   ]
  },
  {
   "cell_type": "code",
   "execution_count": null,
   "metadata": {},
   "outputs": [],
   "source": []
  },
  {
   "cell_type": "code",
   "execution_count": null,
   "metadata": {},
   "outputs": [],
   "source": []
  },
  {
   "cell_type": "code",
   "execution_count": 78,
   "metadata": {},
   "outputs": [],
   "source": [
    "# Model 3 DataFrame Creation\n",
    "\n",
    "X_train_norm, y_train_norm, X_test_norm, y_test_norm = functions.normalize_data(X, y)"
   ]
  },
  {
   "cell_type": "code",
   "execution_count": 82,
   "metadata": {},
   "outputs": [
    {
     "data": {
      "text/plain": [
       "(0.10902262000619693, 0.1091804804931275)"
      ]
     },
     "execution_count": 82,
     "metadata": {},
     "output_type": "execute_result"
    }
   ],
   "source": [
    "# RMSE of training and test set using Ridge regression for model 2\n",
    "\n",
    "functions.cross_val_ridge(X_train_norm, y_train_norm, 3, alpha=0.01)"
   ]
  },
  {
   "cell_type": "code",
   "execution_count": null,
   "metadata": {},
   "outputs": [],
   "source": [
    "# training Ridge regression model at various alpha values to find minimum RMSE on test set\n",
    "\n",
    "ridge_alphas = np.logspace(-2, 0.2, num=100)\n",
    "\n",
    "ridge_cv_errors_train, ridge_cv_errors_test = functions.train_at_various_alphas(X_train_norm, y_train_norm, model=Ridge, alphas=ridge_alphas)"
   ]
  },
  {
   "cell_type": "code",
   "execution_count": null,
   "metadata": {},
   "outputs": [],
   "source": [
    "# plotting range of alpha values to find minimum RMSE\n",
    "\n",
    "plt.scatter(ridge_cv_errors_test.index, ridge_cv_errors_test.values)\n",
    "plt.axvline(ridge_cv_errors_test.idxmin(), color='r', label=ridge_cv_errors_test.idxmin())\n",
    "plt.ylim(0.10914,0.10920)\n",
    "plt.title('RMSE for Various Alpha Values')\n",
    "plt.xlabel('Alpha Value')\n",
    "plt.ylabel('RMSE')\n",
    "plt.legend()"
   ]
  },
  {
   "cell_type": "code",
   "execution_count": 117,
   "metadata": {},
   "outputs": [],
   "source": [
    "model_1_linear_rmse = functions.rmse(y_test, y_hat)\n",
    "model_1_cross_val_rmse = functions.cross_val_linear(X_train, y_train, 5)[1]\n",
    "\n",
    "model_2_linear_rmse = functions.rmse(y2_test, y2_hat)\n",
    "model_2_cross_val_rmse = functions.cross_val_linear(X2_train, y2_train, 5)[1]\n",
    "\n",
    "model_3_ridge_rmse = functions.cross_val_ridge(X_train_norm, y_train_norm, 3, alpha=0.01)[1]"
   ]
  },
  {
   "cell_type": "code",
   "execution_count": 130,
   "metadata": {},
   "outputs": [
    {
     "data": {
      "text/html": [
       "<div>\n",
       "<style scoped>\n",
       "    .dataframe tbody tr th:only-of-type {\n",
       "        vertical-align: middle;\n",
       "    }\n",
       "\n",
       "    .dataframe tbody tr th {\n",
       "        vertical-align: top;\n",
       "    }\n",
       "\n",
       "    .dataframe thead th {\n",
       "        text-align: right;\n",
       "    }\n",
       "</style>\n",
       "<table border=\"1\" class=\"dataframe\">\n",
       "  <thead>\n",
       "    <tr style=\"text-align: right;\">\n",
       "      <th></th>\n",
       "      <th>RMSE</th>\n",
       "    </tr>\n",
       "  </thead>\n",
       "  <tbody>\n",
       "    <tr>\n",
       "      <th>model_1_linear_rmse</th>\n",
       "      <td>2.025905</td>\n",
       "    </tr>\n",
       "    <tr>\n",
       "      <th>model_1_cross_val_rmse</th>\n",
       "      <td>2.131015</td>\n",
       "    </tr>\n",
       "    <tr>\n",
       "      <th>model_2_linear_rmse</th>\n",
       "      <td>2.093790</td>\n",
       "    </tr>\n",
       "    <tr>\n",
       "      <th>model_2_cross_val_rmse</th>\n",
       "      <td>2.093790</td>\n",
       "    </tr>\n",
       "    <tr>\n",
       "      <th>model_3_ridge_rmse</th>\n",
       "      <td>0.109180</td>\n",
       "    </tr>\n",
       "  </tbody>\n",
       "</table>\n",
       "</div>"
      ],
      "text/plain": [
       "                            RMSE\n",
       "model_1_linear_rmse     2.025905\n",
       "model_1_cross_val_rmse  2.131015\n",
       "model_2_linear_rmse     2.093790\n",
       "model_2_cross_val_rmse  2.093790\n",
       "model_3_ridge_rmse      0.109180"
      ]
     },
     "execution_count": 130,
     "metadata": {},
     "output_type": "execute_result"
    }
   ],
   "source": [
    "testing = pd.DataFrame([model_1_linear_rmse, model_1_cross_val_rmse, model_2_linear_rmse, model_2_linear_rmse, model_3_ridge_rmse])\n",
    "testing.rename(index={0:'model_1_linear_rmse', 1:'model_1_cross_val_rmse', 2:'model_2_linear_rmse', 3:'model_2_cross_val_rmse', 4:'model_3_ridge_rmse'}, columns={0: 'RMSE'}, inplace=True)\n",
    "testing"
   ]
  },
  {
   "cell_type": "code",
   "execution_count": null,
   "metadata": {},
   "outputs": [],
   "source": []
  }
 ],
 "metadata": {
  "kernelspec": {
   "display_name": "base",
   "language": "python",
   "name": "python3"
  },
  "language_info": {
   "codemirror_mode": {
    "name": "ipython",
    "version": 3
   },
   "file_extension": ".py",
   "mimetype": "text/x-python",
   "name": "python",
   "nbconvert_exporter": "python",
   "pygments_lexer": "ipython3",
   "version": "3.9.13"
  },
  "orig_nbformat": 4,
  "vscode": {
   "interpreter": {
    "hash": "07380aee12475ce5c242e15cb93da93959ec21ed5e750b306ac9dff24f4b5c7a"
   }
  }
 },
 "nbformat": 4,
 "nbformat_minor": 2
}
