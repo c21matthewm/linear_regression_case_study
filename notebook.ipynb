{
 "cells": [
  {
   "cell_type": "code",
   "execution_count": null,
   "metadata": {},
   "outputs": [],
   "source": []
  }
 ],
 "metadata": {
  "kernelspec": {
   "display_name": "base",
   "language": "python",
   "name": "python3"
  },
  "language_info": {
   "name": "python",
   "version": "3.9.13 (main, Aug 25 2022, 18:29:29) \n[Clang 12.0.0 ]"
  },
  "orig_nbformat": 4,
  "vscode": {
   "interpreter": {
    "hash": "07380aee12475ce5c242e15cb93da93959ec21ed5e750b306ac9dff24f4b5c7a"
   }
  }
 },
 "nbformat": 4,
 "nbformat_minor": 2
}
